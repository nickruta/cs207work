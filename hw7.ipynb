{
 "cells": [
  {
   "cell_type": "markdown",
   "metadata": {},
   "source": [
    "## Q1. Median Maintenance using a Heap\n",
    "\n",
    "\n",
    "### Part 1\n",
    "\n",
    "Implement a \"dominant heap\" class `BinaryHeap`, which can handle both the min heap and the max heap cases, by having the constructor explicitly pass the \"comparison\" operator in. Replace min and del_min by dominant and del_dominant methods. Change the classmethod to also take in the operator."
   ]
  },
  {
   "cell_type": "code",
   "execution_count": 1,
   "metadata": {
    "collapsed": true
   },
   "outputs": [],
   "source": [
    "#your code here\n",
    "class BinaryHeap:\n",
    "    \"\"\"\n",
    "    A heap implementation that can handle both the min heap and the max heap\n",
    "    cases. It accomplishes this by having the comparison operator passed in\n",
    "    via the class constructor. \n",
    "    \n",
    "    Parameters\n",
    "    ----------\n",
    "    storage : list\n",
    "        a list of the data elements of the heap\n",
    "    upto: int\n",
    "        represents the number of elements in the heap\n",
    "    comparison_operator: operator, default is set to 'lt'\n",
    "        used to determine if the min or max heap case should be used\n",
    "        \n",
    "    Notes\n",
    "    -----\n",
    "    PRE: the list of data elements provided, as parameter 'it', \n",
    "        must be comparable: implement < and ==)\n",
    "    POST: the dataset list is not changed by operations of this \n",
    "        class (immutable)\n",
    "    INVARIANTS:\n",
    "        - If an element is present in the provided list, the element is\n",
    "        present in the heap/self.storage\n",
    "        - \n",
    "          \n",
    "    Examples\n",
    "    --------\n",
    "    >>> data = [1,8,5,9,23,2,45,6,7,99,-5]\n",
    "    >>> from operator import gt, lt\n",
    "    >>> bh = BinaryHeap.heapify_slow(data, lt)\n",
    "    >>> print(bh.storage)\n",
    "    [None, -5, 1, 2, 7, 6, 5, 45, 9, 8, 99, 23]\n",
    "    >>> bh.dominant()\n",
    "    -5\n",
    "    >>> bh = BinaryHeap.heapify_slow(data, gt)\n",
    "    >>> print(bh.storage)\n",
    "    [None, 99, 45, 23, 7, 9, 2, 5, 1, 6, 8, -5]\n",
    "    >>> bh.dominant()\n",
    "    99\n",
    "    \"\"\"\n",
    "    def __init__(self):\n",
    "        self.storage=[None]\n",
    "        self.upto=0\n",
    "        # set the default to the less than 'lt' operator\n",
    "        self.comparison_operator=lt\n",
    "        \n",
    "    @classmethod\n",
    "    def heapify_slow(cls, it, comparison_operator):\n",
    "        inst = cls()\n",
    "        # set the comparison operator related with this class method\n",
    "        inst.comparison_operator = comparison_operator\n",
    "        for i in it:\n",
    "            inst.insert(i)\n",
    "        return inst\n",
    "            \n",
    "    def insert(self, value):\n",
    "        self.storage.append(value)\n",
    "        self.upto += 1\n",
    "        self.sift_up(self.upto)\n",
    "\n",
    "    def sift_up(self, i):\n",
    "        parent = i // 2\n",
    "        # check if the parent is greater than 0 and use the comparison operator provided to \n",
    "        # the class at instantiation to determine if the sift up should occur\n",
    "        if parent > 0 and self.comparison_operator(self.storage[i], self.storage[parent]):\n",
    "            self.storage[i], self.storage[parent] = self.storage[parent], self.storage[i]\n",
    "            self.sift_up(parent)\n",
    "     \n",
    "    def _dominant_child(self, i):\n",
    "        if 2*i + 1 > self.upto:\n",
    "            return 2*i\n",
    "        else:\n",
    "            l = (self.storage[2*i], self.storage[2*i+1])\n",
    "            # the comparison operator determines if min or max is used \n",
    "            if self.comparison_operator is lt:\n",
    "                return 2*i + l.index(min(l))\n",
    "            else:\n",
    "                return 2*i + l.index(max(l))\n",
    "    \n",
    "    def sift_down(self, i):\n",
    "        if 2*i <= self.upto:\n",
    "            child = self._dominant_child(i) \n",
    "            # the comparison operator determines if the comparison made justifies a sift down\n",
    "            if not self.comparison_operator(self.storage[i], self.storage[child]):\n",
    "                self.storage[child], self.storage[i] = self.storage[i], self.storage[child]\n",
    "                self.sift_down(child)\n",
    "    \n",
    "    def dominant(self): \n",
    "        \"\"\"\n",
    "        A class method to return the 'dominant' element of the heap's internal storage.\n",
    "\n",
    "        Returns\n",
    "        -------\n",
    "        self.storage[1]: int\n",
    "            the 'dominant' element in the heap's internal storage\n",
    "\n",
    "        Notes\n",
    "        -----\n",
    "        INVARIANTS:\n",
    "            - If the element is present in the heap and it is delcared as\n",
    "            'dominant', this method will return it\n",
    "        \"\"\"\n",
    "        return self.storage[1]\n",
    "        \n",
    "    def del_dominant(self): \n",
    "        \"\"\"\n",
    "        A class method to delete the 'dominant' element of the heap's internal storage. \n",
    "\n",
    "        Returns\n",
    "        -------\n",
    "        dominant_val: int\n",
    "            the deleted 'dominant' value\n",
    "\n",
    "        Notes\n",
    "        -----\n",
    "        INVARIANTS:\n",
    "            - If the request to delete the dominant value is made, the item is no longer\n",
    "            present in the heap.\n",
    "        \"\"\"\n",
    "        # get the dominant value from the first position of the internal list\n",
    "        dominant_val = self.storage[1]\n",
    "        self.storage[1], self.storage[self.upto] = self.storage[self.upto], self.storage[1]\n",
    "        # pop the value off of the internal storage\n",
    "        self.storage.pop()\n",
    "        # there is now one less item, adjust the element count\n",
    "        self.upto -= 1\n",
    "        self.sift_down(1)\n",
    "        return dominant_val"
   ]
  },
  {
   "cell_type": "code",
   "execution_count": 2,
   "metadata": {
    "collapsed": true
   },
   "outputs": [],
   "source": [
    "data = [1,8,5,9,23,2,45,6,7,99,-5]"
   ]
  },
  {
   "cell_type": "code",
   "execution_count": 3,
   "metadata": {
    "collapsed": false
   },
   "outputs": [
    {
     "name": "stdout",
     "output_type": "stream",
     "text": [
      "[None, -5, 1, 2, 7, 6, 5, 45, 9, 8, 99, 23]\n"
     ]
    },
    {
     "data": {
      "text/plain": [
       "-5"
      ]
     },
     "execution_count": 3,
     "metadata": {},
     "output_type": "execute_result"
    }
   ],
   "source": [
    "from operator import gt, lt\n",
    "bh = BinaryHeap.heapify_slow(data, lt)\n",
    "print(bh.storage)\n",
    "bh.dominant()"
   ]
  },
  {
   "cell_type": "code",
   "execution_count": 4,
   "metadata": {
    "collapsed": false
   },
   "outputs": [
    {
     "name": "stdout",
     "output_type": "stream",
     "text": [
      "[None, 99, 45, 23, 7, 9, 2, 5, 1, 6, 8, -5]\n"
     ]
    },
    {
     "data": {
      "text/plain": [
       "99"
      ]
     },
     "execution_count": 4,
     "metadata": {},
     "output_type": "execute_result"
    }
   ],
   "source": [
    "bh = BinaryHeap.heapify_slow(data, gt)\n",
    "print(bh.storage)\n",
    "bh.dominant()"
   ]
  },
  {
   "cell_type": "markdown",
   "metadata": {},
   "source": [
    "### Part 2\n",
    "\n",
    "Median maintenance is a very cool algorithm to find an online median.\n",
    "We create two arrays to test our implementation, using np.median to test our answer..."
   ]
  },
  {
   "cell_type": "code",
   "execution_count": 5,
   "metadata": {
    "collapsed": false
   },
   "outputs": [
    {
     "name": "stdout",
     "output_type": "stream",
     "text": [
      "150 477.5\n",
      "151 479.0\n"
     ]
    }
   ],
   "source": [
    "import random\n",
    "import numpy as np\n",
    "l = [random.randint(1,1000) for _ in range(150)]\n",
    "print(len(l), np.median(l))\n",
    "l2 = l + [random.randint(1,1000)]\n",
    "print(len(l2), np.median(l2))"
   ]
  },
  {
   "cell_type": "markdown",
   "metadata": {},
   "source": [
    "You will implement def online_median(iterator) which is a generator yielding successive values of your online median.\n",
    "\n",
    "The algorithm is as follows:\n",
    "\n",
    "We'll use 2 heaps, a max heap for the lower half of the data, and a min-heap for the upper half. We take the first 2values in our data and assign the smaller value to the max heap, while the larger value goes to the min-heap. Then, as we \"insert\" subsequent values in one of the two heaps, the following holds: if we keep the number of elements in both heaps equal (for the even case) or at-most differing by one, the median is respectively the average of the two dominants or the dominant in the heap with one extra item.\n",
    "\n",
    "What then is our strategy for this balanced insertion? Quite simple really: if a new value is not as dominant as the dominant value, add it to that heap. If it is more dominant, add it to the other. If two items in a row get added to the same heap, the heaps will be out of balance by more than one. In this case, take the dominant element from the larger heap and simply add it to the smaller one."
   ]
  },
  {
   "cell_type": "code",
   "execution_count": 6,
   "metadata": {
    "collapsed": true
   },
   "outputs": [],
   "source": [
    "#your code here\n",
    "def online_median(iterator):\n",
    "    \"\"\"\n",
    "    An algorithm that uses a generator to yield successive values of the online median.  \n",
    "    \n",
    "    Parameters\n",
    "    ----------\n",
    "    l : iterator\n",
    "        the incoming data values used to determine the online median provided as an iterator\n",
    "        \n",
    "    Yields\n",
    "    -------\n",
    "    median: int\n",
    "        the median value at any point in the online median generator's processing\n",
    "        \n",
    "    Notes\n",
    "    -----\n",
    "    PRE: The dataset associated with the provided iterator \n",
    "        must contain elements that are comparable: implement < and ==) \n",
    "        \n",
    "    INVARIANTS:\n",
    "        - If an element is provided to the online_median function, it will be present\n",
    "            in one of the two internal heaps (max or min)\n",
    "          \n",
    "    Examples\n",
    "    --------\n",
    "    >>> import random\n",
    "    >>> import numpy as np\n",
    "    >>> l = [random.randint(1,1000) for _ in range(150)]\n",
    "    >>> l2 = l + [random.randint(1,1000)]\n",
    "    >>> list(online_median(iter(l2)))[-1]\n",
    "    572\n",
    "    \"\"\"\n",
    "    # check for a valid length before proceeding (should be > 1)\n",
    "    if len(l) < 1:\n",
    "        raise ValueError('Cannot find the online median of an empty dataset.')\n",
    "    # NOT SURE ABOUT THIS MEDIAN VALUE\n",
    "    elif len(l) == 1:\n",
    "        median = next(iterator)\n",
    "        yield median\n",
    "    else: \n",
    "        first_value = next(iterator)\n",
    "        second_value = next(iterator)\n",
    "        # set the smaller value to the max heap\n",
    "        # and the larger value to the min heap\n",
    "        max_heap = BinaryHeap.heapify_slow([min(first_value, second_value)], gt)\n",
    "        min_heap = BinaryHeap.heapify_slow([max(first_value, second_value)], lt)\n",
    "        \n",
    "        # numerical value to represent state of balance\n",
    "        # if the balance_value is 0, the two heaps are balanced\n",
    "        balance_value = 0\n",
    "        \n",
    "    for i in iterator: \n",
    "        # INSERTION to max heap - new value is not as dominant as the current dominant\n",
    "        if (i < max_heap.dominant()):\n",
    "            max_heap.insert(i)\n",
    "        \n",
    "            # balance value is 1, move value from max heap to min heap and decrement balance\n",
    "            # value to set as two heaps are balanced\n",
    "            if balance_value is 1: \n",
    "                min_heap.insert(max_heap.dominant())\n",
    "                max_heap.del_dominant()\n",
    "                balance_value -= 1\n",
    "            else:\n",
    "                # balance value is set to 0, increment to 1 after max heap insert\n",
    "                balance_value += 1\n",
    "        else: \n",
    "            # INSERTION to min heap\n",
    "            min_heap.insert(i)\n",
    "            \n",
    "            # balance value is -1, move min heap dominant to max heap and set\n",
    "            # as two heaps are balanced i.e. balance_value == 0\n",
    "            if balance_value is -1:\n",
    "                max_heap.insert(min_heap.dominant())\n",
    "                min_heap.del_dominant()\n",
    "                balance_value += 1\n",
    "            else:\n",
    "                # balance value is set to 0, decrement to -1\n",
    "                balance_value += -1\n",
    "                \n",
    "        # the median is the dominant in the heap with one extra item\n",
    "        if max_heap.upto > min_heap.upto:\n",
    "            median = max_heap.dominant()\n",
    "        elif min_heap.upto > max_heap.upto:\n",
    "            median = min_heap.dominant()\n",
    "        # the two heaps contain the same amount of elements therefore the median\n",
    "        # is the average of the two heap's dominants\n",
    "        else: \n",
    "            median = (min_heap.dominant() + max_heap.dominant()) / 2\n",
    "        \n",
    "        yield median"
   ]
  },
  {
   "cell_type": "markdown",
   "metadata": {},
   "source": [
    "Do your answers match?\n"
   ]
  },
  {
   "cell_type": "code",
   "execution_count": 7,
   "metadata": {
    "collapsed": false
   },
   "outputs": [
    {
     "name": "stdout",
     "output_type": "stream",
     "text": [
      "477.5\n"
     ]
    },
    {
     "data": {
      "text/plain": [
       "[<matplotlib.lines.Line2D at 0x10ee57cc0>]"
      ]
     },
     "execution_count": 7,
     "metadata": {},
     "output_type": "execute_result"
    },
    {
     "data": {
      "image/png": "[encoded data removed]",
      "text/plain": [
       "<matplotlib.figure.Figure at 0x10c96bba8>"
      ]
     },
     "metadata": {},
     "output_type": "display_data"
    }
   ],
   "source": [
    "%matplotlib inline\n",
    "import matplotlib.pyplot as plt\n",
    "medians = list(online_median(iter(l)))\n",
    "print(medians[-1])\n",
    "plt.plot(medians)"
   ]
  },
  {
   "cell_type": "code",
   "execution_count": 8,
   "metadata": {
    "collapsed": false
   },
   "outputs": [
    {
     "data": {
      "text/plain": [
       "479"
      ]
     },
     "execution_count": 8,
     "metadata": {},
     "output_type": "execute_result"
    }
   ],
   "source": [
    "list(online_median(iter(l2)))[-1]"
   ]
  },
  {
   "cell_type": "markdown",
   "metadata": {},
   "source": [
    "Lastly, lets repeat the analysis we did last time on the randomly generated data."
   ]
  },
  {
   "cell_type": "code",
   "execution_count": 9,
   "metadata": {
    "collapsed": true
   },
   "outputs": [],
   "source": [
    "from random import normalvariate, random\n",
    "from itertools import count\n",
    "def make_data(m, stop=None):\n",
    "    for _ in count():\n",
    "        if stop and _ > stop:\n",
    "            break\n",
    "        yield 1.0e09 + normalvariate(0, m*random() )"
   ]
  },
  {
   "cell_type": "code",
   "execution_count": 10,
   "metadata": {
    "collapsed": false
   },
   "outputs": [
    {
     "name": "stdout",
     "output_type": "stream",
     "text": [
      "<class 'generator'>\n"
     ]
    },
    {
     "data": {
      "text/plain": [
       "[999999999.7413564,\n",
       " 999999999.7168206,\n",
       " 999999999.7413564,\n",
       " 999999999.7658921,\n",
       " 999999999.7413564,\n",
       " 999999999.7168206,\n",
       " 999999999.6627269,\n",
       " 999999999.7168206,\n",
       " 999999999.7413564,\n",
       " 999999999.7658921]"
      ]
     },
     "execution_count": 10,
     "metadata": {},
     "output_type": "execute_result"
    }
   ],
   "source": [
    "g = online_median(make_data(5, 100))\n",
    "print(type(g))\n",
    "out = list(g)\n",
    "out[-10:]"
   ]
  },
  {
   "cell_type": "code",
   "execution_count": 11,
   "metadata": {
    "collapsed": false
   },
   "outputs": [
    {
     "data": {
      "text/plain": [
       "[<matplotlib.lines.Line2D at 0x10f4b3978>]"
      ]
     },
     "execution_count": 11,
     "metadata": {},
     "output_type": "execute_result"
    },
    {
     "data": {
      "image/png": "[encoded data removed]",
      "text/plain": [
       "<matplotlib.figure.Figure at 0x10ee75208>"
      ]
     },
     "metadata": {},
     "output_type": "display_data"
    }
   ],
   "source": [
    "plt.plot(out)"
   ]
  },
  {
   "cell_type": "markdown",
   "metadata": {},
   "source": [
    "## Q2\n",
    "\n",
    "### Simulating a flight check-in counter\n",
    "\n",
    "It is your job to simulate a flight-checkin counter. There are m agents handling n passengers. The passengers arrive in line with in-between time given by an exponential distribution for INTER_ARRIVAL_TIME. Each passenger, once he or she gets to a counter, is processed in a time drawn from an exponential distribution with PROCESSING_TIME. \n",
    "\n",
    "Clearly, in the usual case of 3-4 agents and 200+ customers on a flight, the customer waits much longer. We have been hired by the airlines customer-relations group to see how many extra agents must we hire to reduce waiting times by how much.\n",
    "\n",
    "We start by representing each customer by a co-routine, which starts with the `inline` event. The state changes to the `atcounter` event, and then `ptime` seconds later, to the `leaves` event. Notice how this customer \"process\" is stopped at the yield, until the customer can be handled."
   ]
  },
  {
   "cell_type": "code",
   "execution_count": 12,
   "metadata": {
    "collapsed": true
   },
   "outputs": [],
   "source": [
    "import collections, random\n",
    "Event = collections.namedtuple('Event', 'time cid action agent')\n",
    "def customer_process(idee, start, ptime):\n",
    "    t, agent = yield Event(start, idee, \"inline\", None)\n",
    "    t, agent = yield Event(t, idee, \"atcounter\", agent)\n",
    "    yield Event(t+ptime, idee, \"leaves\", agent)          "
   ]
  },
  {
   "cell_type": "markdown",
   "metadata": {},
   "source": [
    "The following function simply implements the draw from the exponential distribution for a given customer:"
   ]
  },
  {
   "cell_type": "code",
   "execution_count": 13,
   "metadata": {
    "collapsed": true
   },
   "outputs": [],
   "source": [
    "def duration(arr_time, service_time):\n",
    "    return random.expovariate(1./arr_time), random.expovariate(1./service_time)"
   ]
  },
  {
   "cell_type": "markdown",
   "metadata": {},
   "source": [
    "Here is out main simulation class. you will be filling in parts of this class.\n",
    "\n",
    "The constructor sets up the simulation. Three queues are created, one for agents that become free, one priority queue for events so that they can be processed in the order recieved, and a backlog for queue for those customers waiting in line because no agent was available.\n",
    "\n",
    "We set up all the customers in the constructor, with two dictionaries, one to hold the co-routines, and one to hold time metadata which we shall use to figure the average waiting time.\n",
    "\n",
    "The `run` method is where all the action happens and is the one you will edit."
   ]
  },
  {
   "cell_type": "code",
   "execution_count": 14,
   "metadata": {
    "collapsed": false
   },
   "outputs": [],
   "source": [
    "import queue\n",
    "import logging\n",
    "\n",
    "# create a logger and add the StreamHandler instance to send messages to\n",
    "# streams for output\n",
    "logger = logging.getLogger()\n",
    "logger.addHandler(logging.StreamHandler())\n",
    "\n",
    "class Simulator:\n",
    "    \n",
    "    def __init__(self, n_agents, n_customers, INTER_ARRIVAL_TIME =1., PROCESSING_TIME=3., DEBUG=False ): \n",
    "        #queues\n",
    "        self.free_agents = queue.Queue()\n",
    "        self.backlog = queue.Queue()\n",
    "        self.events=queue.PriorityQueue()\n",
    "        #save the arguments\n",
    "        self.n_customers = n_customers\n",
    "        self.n_agents = n_agents\n",
    "        self.intertime=INTER_ARRIVAL_TIME\n",
    "        self.proctime=PROCESSING_TIME\n",
    "        #dictionaries to hold customer process\n",
    "        self.customers={}\n",
    "        self.customer_meta={}\n",
    "        self.logger = logging.getLogger(\"sim\")\n",
    "        if DEBUG:\n",
    "            self.logger.setLevel(logging.DEBUG)\n",
    "        else:\n",
    "            self.logger.setLevel(logging.WARNING)\n",
    "        #on the free_agents queue, we put all the agents, and thee time\n",
    "        #they got free\n",
    "        for i in range(n_agents):\n",
    "            self.free_agents.put((i,0))\n",
    "        #this tracks when each customer came in.          \n",
    "        time_when_came=0.\n",
    "        for j in range(n_customers):\n",
    "            interarrtime, proctime = duration(self.intertime, self.proctime)\n",
    "            time_when_came += interarrtime\n",
    "            intuple = (j, time_when_came, proctime)\n",
    "            c = customer_process(*intuple)\n",
    "            self.logger.debug(\"Customer {}, arrived {}, will take {} at counter\".format(*intuple))\n",
    "            #add each customer to dictionaries\n",
    "            self.customers[j]=c\n",
    "            self.customer_meta[j]={'cid':j, 'start':time_when_came, 'finish':None}\n",
    "        self.logger.debug(\"========ending init==============\\n\\n\")\n",
    "        self.max_time_when_came=time_when_came  \n",
    "\n",
    "    def run(self, end_time):\n",
    "        #we prime each customer co-routine at the start\n",
    "        #and put that event in the events priority queue\n",
    "        #Since an event is a tuple, the ordering will be by start time\n",
    "        for cid, proc in sorted(self.customers.items()):\n",
    "            first_event = next(proc)#prime\n",
    "            self.events.put(first_event)#customer in line\n",
    "\n",
    "        #start at time 0\n",
    "        sim_time = 0\n",
    "        while sim_time < end_time:\n",
    "            #we are done if no events and no backlog\n",
    "            if self.events.empty() and self.backlog.empty(): \n",
    "                self.logger.debug('*** end of events and backlog***') \n",
    "                break\n",
    "            #if we have agents available and a backlog\n",
    "            #take customer from backlog queue. This is equivalent\n",
    "            #to taking customers from line\n",
    "            if not self.backlog.empty() and not self.free_agents.empty():\n",
    "                \"YOUR CODE HERE\"\n",
    "                # get the next customer from the backlog queue\n",
    "                current_event = self.backlog.get()\n",
    "                \n",
    "                #the sim time from this branch will be false\n",
    "                #as we get the old time the person in the line showed up\n",
    "            else: #get current event in all other cases\n",
    "                #his ensures that leave events are processed thus\n",
    "                #freeing up agents\n",
    "                \"YOUR CODE HERE\"\n",
    "                # get the next event in the priority queue\n",
    "                current_event = self.events.get()\n",
    "            \n",
    "            sim_time, cid, action, agent = current_event\n",
    "\n",
    "            #get the current customer process\n",
    "            # use exception handling to catch KeyError gracefully \n",
    "            try:\n",
    "                cproc = self.customers[cid]\n",
    "            except Exception:\n",
    "                print(\"KeyError Occurred!: \", self.customers, cid)\n",
    "                \n",
    "            # set next_time to -1\n",
    "            # used to determine if an atcounter action has set next_time to sim_time below\n",
    "            next_time = -1\n",
    "                \n",
    "            if action=='leaves':\n",
    "                self.logger.debug(\">>>Customer {} leaves, agent {} free at {}\".format(cid, agent, sim_time))\n",
    "                #an agent gets free. Put the time they got free on q\n",
    "                #also update the metadata\n",
    "                self.free_agents.put((agent, sim_time))\n",
    "                self.customer_meta[cid]['finish']=sim_time\n",
    "            elif action=='atcounter':\n",
    "                self.logger.debug(\"Customer {} atcounter Agent {} at {}\".format(cid, agent, sim_time))\n",
    "                next_time = sim_time#processing time already in coroutine\n",
    "            elif action=='inline':#the agent is None to start\n",
    "                self.logger.debug('----------------------------------------------')\n",
    "                self.logger.debug(\"Customer {}, arrived in line @ {}.\".format(cid, sim_time))\n",
    "\n",
    "                if self.free_agents.empty():\n",
    "                    self.logger.debug(\"NO agents available, putting {} inline on backlog at {}\".format(cid, sim_time))\n",
    "                    \"YOUR CODE HERE\"\n",
    "                    # add the event to the backlog queue\n",
    "                    self.backlog.put(current_event)\n",
    "      \n",
    "                else:\n",
    "                    self.logger.debug(\"{} agents available to serve.\".format(self.free_agents.qsize()))\n",
    "                    \"YOUR CODE HERE\"#handle both situations\n",
    "                    #of getting from backlog or regular. The time in\n",
    "                    #next_time which you will send in message to co-routine\n",
    "                    #below are different\n",
    "                    \n",
    "                    # get the free agent and determine next_time by selecting the \n",
    "                    # max value between sim_time and t\n",
    "                    # this is how both situations are handled\n",
    "                    (agent, t) = self.free_agents.get()\n",
    "                    next_time = max(sim_time, t)\n",
    "                    \n",
    "                    self.logger.debug(\"Customer {} inline to be served by Agent {} at {}\".format(cid, agent, next_time))\n",
    "\n",
    "            #drive the co-routine by sending in time and agent, and getting\n",
    "            #next event out. The event is put into the priority queue.\n",
    "\n",
    "            # next_time is set, proceed with next_event by sending in time and agent\n",
    "            if next_time != -1:\n",
    "                try:\n",
    "                    next_event = cproc.send((next_time, agent)) \n",
    "                except StopIteration:\n",
    "                    del self.customers[cid] \n",
    "                else:\n",
    "                    self.events.put(next_event)\n",
    "                \n",
    "    def compute_ptimes(self):\n",
    "        ptimes=[]\n",
    "        for j in range(self.n_customers):\n",
    "            #print(j,self.customer_meta[j] )\n",
    "            if self.customer_meta[j]['finish']!=None:\n",
    "                ptimes.append(self.customer_meta[j]['finish'] - self.customer_meta[j]['start'])\n",
    "        return ptimes"
   ]
  },
  {
   "cell_type": "code",
   "execution_count": 15,
   "metadata": {
    "collapsed": true
   },
   "outputs": [],
   "source": [
    "def sim_main(num_agents, num_customers, extratime=20., seed=None, debug=False):\n",
    "    if seed is not None:\n",
    "        random.seed(seed)\n",
    "    sim = Simulator(num_agents, num_customers, DEBUG=debug)\n",
    "    sim.run(sim.max_time_when_came+extratime)\n",
    "    return sim"
   ]
  },
  {
   "cell_type": "markdown",
   "metadata": {},
   "source": [
    "Start small to test this out."
   ]
  },
  {
   "cell_type": "code",
   "execution_count": 16,
   "metadata": {
    "collapsed": false
   },
   "outputs": [
    {
     "name": "stderr",
     "output_type": "stream",
     "text": [
      "Customer 0, arrived 1.9029628033331973, will take 1.0423287304584197 at counter\n",
      "Customer 1, arrived 3.102574770308852, will take 2.288807694786482 at counter\n",
      "Customer 2, arrived 4.114966900753666, will take 4.821158267913111 at counter\n",
      "Customer 3, arrived 4.6285501167886585, will take 5.286226759544852 at counter\n",
      "Customer 4, arrived 6.310900191015001, will take 1.3747965072338328 at counter\n",
      "Customer 5, arrived 6.588839275191104, will take 2.1385957329682226 at counter\n",
      "========ending init==============\n",
      "\n",
      "\n",
      "----------------------------------------------\n",
      "Customer 0, arrived in line @ 1.9029628033331973.\n",
      "2 agents available to serve.\n",
      "Customer 0 inline to be served by Agent 0 at 1.9029628033331973\n",
      "Customer 0 atcounter Agent 0 at 1.9029628033331973\n",
      ">>>Customer 0 leaves, agent 0 free at 2.9452915337916172\n",
      "----------------------------------------------\n",
      "Customer 1, arrived in line @ 3.102574770308852.\n",
      "2 agents available to serve.\n",
      "Customer 1 inline to be served by Agent 1 at 3.102574770308852\n",
      "Customer 1 atcounter Agent 1 at 3.102574770308852\n",
      "----------------------------------------------\n",
      "Customer 2, arrived in line @ 4.114966900753666.\n",
      "1 agents available to serve.\n",
      "Customer 2 inline to be served by Agent 0 at 4.114966900753666\n",
      "Customer 2 atcounter Agent 0 at 4.114966900753666\n",
      "----------------------------------------------\n",
      "Customer 3, arrived in line @ 4.6285501167886585.\n",
      "NO agents available, putting 3 inline on backlog at 4.6285501167886585\n",
      ">>>Customer 1 leaves, agent 1 free at 5.391382465095334\n",
      "----------------------------------------------\n",
      "Customer 3, arrived in line @ 4.6285501167886585.\n",
      "1 agents available to serve.\n",
      "Customer 3 inline to be served by Agent 1 at 5.391382465095334\n",
      "Customer 3 atcounter Agent 1 at 5.391382465095334\n",
      "----------------------------------------------\n",
      "Customer 4, arrived in line @ 6.310900191015001.\n",
      "NO agents available, putting 4 inline on backlog at 6.310900191015001\n",
      "----------------------------------------------\n",
      "Customer 5, arrived in line @ 6.588839275191104.\n",
      "NO agents available, putting 5 inline on backlog at 6.588839275191104\n",
      ">>>Customer 2 leaves, agent 0 free at 8.936125168666777\n",
      "----------------------------------------------\n",
      "Customer 4, arrived in line @ 6.310900191015001.\n",
      "1 agents available to serve.\n",
      "Customer 4 inline to be served by Agent 0 at 8.936125168666777\n",
      "Customer 4 atcounter Agent 0 at 8.936125168666777\n",
      ">>>Customer 4 leaves, agent 0 free at 10.31092167590061\n",
      "----------------------------------------------\n",
      "Customer 5, arrived in line @ 6.588839275191104.\n",
      "1 agents available to serve.\n",
      "Customer 5 inline to be served by Agent 0 at 10.31092167590061\n",
      "Customer 5 atcounter Agent 0 at 10.31092167590061\n",
      ">>>Customer 3 leaves, agent 1 free at 10.677609224640186\n",
      ">>>Customer 5 leaves, agent 0 free at 12.449517408868832\n",
      "*** end of events and backlog***\n"
     ]
    }
   ],
   "source": [
    "sim=sim_main(2,6, debug=True)"
   ]
  },
  {
   "cell_type": "markdown",
   "metadata": {},
   "source": [
    "Now lets try it with some larger numbers."
   ]
  },
  {
   "cell_type": "code",
   "execution_count": 17,
   "metadata": {
    "collapsed": false
   },
   "outputs": [
    {
     "data": {
      "image/png": "[encoded data removed]",
      "text/plain": [
       "<matplotlib.figure.Figure at 0x10c978940>"
      ]
     },
     "metadata": {},
     "output_type": "display_data"
    }
   ],
   "source": [
    "%matplotlib inline\n",
    "import matplotlib.pyplot as plt\n",
    "sim=sim_main(3,100)\n",
    "plt.hist(sim.compute_ptimes(), bins=20);"
   ]
  },
  {
   "cell_type": "code",
   "execution_count": 18,
   "metadata": {
    "collapsed": false
   },
   "outputs": [
    {
     "data": {
      "image/png": "[encoded data removed]",
      "text/plain": [
       "<matplotlib.figure.Figure at 0x10ee9bfd0>"
      ]
     },
     "metadata": {},
     "output_type": "display_data"
    }
   ],
   "source": [
    "sim2=sim_main(4,100)\n",
    "plt.hist(sim2.compute_ptimes(), bins=20);"
   ]
  },
  {
   "cell_type": "markdown",
   "metadata": {},
   "source": [
    "extra time needed below as with 400 passengers a long time is taken to process."
   ]
  },
  {
   "cell_type": "code",
   "execution_count": 19,
   "metadata": {
    "collapsed": false
   },
   "outputs": [
    {
     "data": {
      "image/png": "[encoded data removed]",
      "text/plain": [
       "<matplotlib.figure.Figure at 0x10f4aa160>"
      ]
     },
     "metadata": {},
     "output_type": "display_data"
    }
   ],
   "source": [
    "sim2=sim_main(2,400, extratime=100)\n",
    "plt.hist(sim2.compute_ptimes(), bins=20);"
   ]
  },
  {
   "cell_type": "markdown",
   "metadata": {},
   "source": [
    "For a proper statistical analysis, you would want to draw this multiple times and look at the distribution of the averages as well. But you should know what this distribution is :-)."
   ]
  }
 ],
 "metadata": {
  "anaconda-cloud": {},
  "kernelspec": {
   "display_name": "Python [Root]",
   "language": "python",
   "name": "Python [Root]"
  },
  "language_info": {
   "codemirror_mode": {
    "name": "ipython",
    "version": 3
   },
   "file_extension": ".py",
   "mimetype": "text/x-python",
   "name": "python",
   "nbconvert_exporter": "python",
   "pygments_lexer": "ipython3",
   "version": "3.5.2"
  }
 },
 "nbformat": 4,
 "nbformat_minor": 0
}
