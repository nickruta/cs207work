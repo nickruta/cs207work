{
 "cells": [
  {
   "cell_type": "markdown",
   "metadata": {
    "collapsed": true
   },
   "source": [
    "## Q1.\n",
    "\n",
    "Add a __setitem__ to the python linked list implementation from the lecture (this past wednesday)."
   ]
  },
  {
   "cell_type": "code",
   "execution_count": 7,
   "metadata": {
    "collapsed": false
   },
   "outputs": [
    {
     "name": "stdout",
     "output_type": "stream",
     "text": [
      "Linked List Length:  2\n",
      "LL([3,...])\n",
      "LL([42,...])\n"
     ]
    }
   ],
   "source": [
    "#your code here\n",
    "from doctest import run_docstring_examples as dtest\n",
    "import numbers\n",
    "import reprlib\n",
    "class LL:\n",
    "    \"\"\"\n",
    "    >>> A = LL()  \n",
    "    >>> A[0]\n",
    "    Traceback (most recent call last):\n",
    "        ...\n",
    "    IndexError: trying to index an empty LL\n",
    "    >>> A.insert_front(1)\n",
    "    >>> A[0]\n",
    "    1\n",
    "    >>> A.insert_back(2)\n",
    "    >>> A[1]\n",
    "    2\n",
    "    >>> A\n",
    "    LL([1,...])\n",
    "    >>> myll = LL.from_components([1,2])\n",
    "    >>> myll[1]\n",
    "    1\n",
    "    >>> len(myll)\n",
    "    2\n",
    "    >>> myll[2]\n",
    "    Traceback (most recent call last):\n",
    "        ...\n",
    "    IndexError: LL index out of range\n",
    "    >>> myll[0:1]\n",
    "    Traceback (most recent call last):\n",
    "        ...\n",
    "    TypeError: LL indices must be integers\n",
    "    \"\"\"\n",
    "    @classmethod\n",
    "    def from_components(cls, components):\n",
    "        inst = cls(components[0])\n",
    "        for c in components[1:]:\n",
    "            inst.insert_front(c)\n",
    "        return inst\n",
    "        \n",
    "    def __init__(self, head=None):\n",
    "        if head is None:\n",
    "            self._headNode = None\n",
    "        else:\n",
    "            self._headNode = [head, None]\n",
    "            \n",
    "    def insert_front(self, element):\n",
    "        new_node = [element, None] \n",
    "        new_node[1] = self._headNode\n",
    "        self._headNode = new_node\n",
    "        \n",
    "    def insert_back(self, element):\n",
    "        new_node = [element, None]\n",
    "        curr_ptr = self._headNode\n",
    "        while curr_ptr[1] is not None:\n",
    "            curr_ptr = curr_ptr[1]\n",
    "        curr_ptr[1]= new_node\n",
    "        \n",
    "    def __repr__(self):\n",
    "        class_name = type(self).__name__\n",
    "        if len(self)==0:\n",
    "            components=\"\"\n",
    "        else:\n",
    "            components = reprlib.repr(self[0])\n",
    "        return '{}([{},...])'.format(class_name,components)\n",
    "\n",
    "\n",
    "    def __len__(self):\n",
    "        curr_ptr = self._headNode\n",
    "        count = 0\n",
    "        if curr_ptr==None:\n",
    "            return 0\n",
    "        while 1:\n",
    "            count = count + 1\n",
    "            if curr_ptr[1] is None:\n",
    "                break\n",
    "            curr_ptr = curr_ptr[1]\n",
    "        return count    \n",
    "    \n",
    "    def __getitem__(self, index):\n",
    "        class_name = type(self).__name__\n",
    "        if isinstance(index, numbers.Integral): \n",
    "            curr_ptr = self._headNode\n",
    "            if curr_ptr==None:\n",
    "                msg = 'trying to index an empty {class_name}' \n",
    "                raise IndexError(msg.format(class_name=class_name))\n",
    "            next_ptr = self._headNode[1]\n",
    "            count = 0\n",
    "            while 1:\n",
    "                if index == count:\n",
    "                    return curr_ptr[0]\n",
    "                if curr_ptr[1] is None:\n",
    "                    msg = '{class_name} index out of range' \n",
    "                    raise IndexError(msg.format(class_name=class_name))       \n",
    "                count += 1\n",
    "                curr_ptr = curr_ptr[1]\n",
    "        else:\n",
    "            msg = '{class_name} indices must be integers' \n",
    "            raise TypeError(msg.format(class_name=class_name))\n",
    "            \n",
    "    def __setitem__(self, index, element):\n",
    "        class_name = type(self).__name__\n",
    "        if isinstance(index, numbers.Integral): \n",
    "            curr_ptr = self._headNode\n",
    "            if curr_ptr==None:\n",
    "                msg = 'trying to index an empty {class_name}' \n",
    "                raise IndexError(msg.format(class_name=class_name))\n",
    "            count=0\n",
    "            while 1:\n",
    "                if index == count:\n",
    "                    # this is where the element gets set\n",
    "                    curr_ptr[0] = element\n",
    "                    if index == 0:\n",
    "                        self._headNode = curr_ptr\n",
    "                    break\n",
    "                if curr_ptr[1] is None:\n",
    "                    msg = '{class_name} index out of range' \n",
    "                    raise IndexError(msg.format(class_name=class_name)) \n",
    "                count+=1\n",
    "                curr_ptr = curr_ptr[1]\n",
    "        else:\n",
    "            msg = '{class_name} indices must be integers' \n",
    "            raise TypeError(msg.format(class_name=class_name))\n",
    "            \n",
    "# Example to verify the __setitem__ implementation \n",
    "# create a new linked list and use the insert_front method to add elements\n",
    "DaLinkedList = LL()\n",
    "DaLinkedList.insert_front(2)\n",
    "DaLinkedList.insert_front(3)\n",
    "\n",
    "print(\"Linked List Length: \", len(DaLinkedList))\n",
    "\n",
    "# first element is 3\n",
    "print(DaLinkedList)\n",
    "\n",
    "# first element is now 42, this assignment is possible because of __setitem__ method\n",
    "DaLinkedList[0]=42\n",
    "print(DaLinkedList)"
   ]
  },
  {
   "cell_type": "markdown",
   "metadata": {},
   "source": [
    "## Q2.\n",
    "\n",
    "An online mean and standard deviation algorithm.\n",
    "\n",
    "Below is a function to generate a potentially infinite stream of 1-D data."
   ]
  },
  {
   "cell_type": "code",
   "execution_count": 8,
   "metadata": {
    "collapsed": false
   },
   "outputs": [],
   "source": [
    "from random import normalvariate, random\n",
    "from itertools import count\n",
    "def make_data(m, stop=None):\n",
    "    for _ in count():\n",
    "        if stop and _ > stop:\n",
    "            break\n",
    "        yield 1.0e09 + normalvariate(0, m*random() )\n",
    "        "
   ]
  },
  {
   "cell_type": "markdown",
   "metadata": {},
   "source": [
    "Here is an implementation of an online mean algorithm..see http://www.johndcook.com/blog/standard_deviation/ and the link to http://www.johndcook.com/blog/2008/09/26/comparing-three-methods-of-computing-standard-deviation/ in-between. (Convince yourselves of the formulas...)"
   ]
  },
  {
   "cell_type": "code",
   "execution_count": 9,
   "metadata": {
    "collapsed": true
   },
   "outputs": [],
   "source": [
    "def online_mean(iterator):\n",
    "    n = 0\n",
    "    mu = 0\n",
    "    for value in iterator:\n",
    "        n += 1\n",
    "        delta = value - mu\n",
    "        mu = mu + delta/n\n",
    "        yield mu"
   ]
  },
  {
   "cell_type": "markdown",
   "metadata": {},
   "source": [
    "We use out generator functions to implement iterators:"
   ]
  },
  {
   "cell_type": "code",
   "execution_count": 10,
   "metadata": {
    "collapsed": false
   },
   "outputs": [
    {
     "data": {
      "text/plain": [
       "[999999991.7023373,\n",
       " 999999999.987287,\n",
       " 1000000000.01501,\n",
       " 1000000000.9628924,\n",
       " 999999998.902073,\n",
       " 1000000004.4784744,\n",
       " 999999999.0653574,\n",
       " 1000000000.8271933,\n",
       " 1000000003.8208712,\n",
       " 999999995.8287171,\n",
       " 1000000005.6058666]"
      ]
     },
     "execution_count": 10,
     "metadata": {},
     "output_type": "execute_result"
    }
   ],
   "source": [
    "g = make_data(5, 10)\n",
    "list(g)"
   ]
  },
  {
   "cell_type": "code",
   "execution_count": 11,
   "metadata": {
    "collapsed": false
   },
   "outputs": [
    {
     "name": "stdout",
     "output_type": "stream",
     "text": [
      "<class 'generator'>\n"
     ]
    },
    {
     "data": {
      "text/plain": [
       "[1000000002.4521195,\n",
       " 1000000004.6647514,\n",
       " 1000000003.0934374,\n",
       " 1000000002.6777877,\n",
       " 1000000001.9755245,\n",
       " 1000000003.6856863,\n",
       " 1000000003.0936588,\n",
       " 1000000003.6652442,\n",
       " 1000000003.2348818,\n",
       " 1000000003.1858777,\n",
       " 1000000002.7013146,\n",
       " 1000000002.5394324,\n",
       " 1000000002.3001896,\n",
       " 1000000002.1133895,\n",
       " 1000000002.0564903,\n",
       " 1000000001.9278722,\n",
       " 1000000001.8288683,\n",
       " 1000000001.7515928,\n",
       " 1000000001.4850678,\n",
       " 1000000001.4149258,\n",
       " 1000000001.5913647,\n",
       " 1000000001.5072657,\n",
       " 1000000001.4856739,\n",
       " 1000000001.3939021,\n",
       " 1000000001.3417273,\n",
       " 1000000001.3968813,\n",
       " 1000000001.3424654,\n",
       " 1000000001.2976038,\n",
       " 1000000001.2564322,\n",
       " 1000000001.2116971,\n",
       " 1000000001.1193835,\n",
       " 1000000001.0648513,\n",
       " 1000000001.0138924,\n",
       " 1000000000.9563911,\n",
       " 1000000000.9354547,\n",
       " 1000000000.9149133,\n",
       " 1000000000.8802994,\n",
       " 1000000000.7794015,\n",
       " 1000000000.6891966,\n",
       " 1000000000.7236398,\n",
       " 1000000000.7261255,\n",
       " 1000000000.6918732,\n",
       " 1000000000.6101325,\n",
       " 1000000000.6267034,\n",
       " 1000000000.6496733,\n",
       " 1000000000.7418766,\n",
       " 1000000000.8206581,\n",
       " 1000000000.822395,\n",
       " 1000000000.7823516,\n",
       " 1000000000.761159,\n",
       " 1000000000.7432983,\n",
       " 1000000000.730933,\n",
       " 1000000000.6424086,\n",
       " 1000000000.6234319,\n",
       " 1000000000.6308439,\n",
       " 1000000000.6212873,\n",
       " 1000000000.6120661,\n",
       " 1000000000.5596298,\n",
       " 1000000000.550012,\n",
       " 1000000000.5534343,\n",
       " 1000000000.5050012,\n",
       " 1000000000.5357867,\n",
       " 1000000000.587397,\n",
       " 1000000000.5875565,\n",
       " 1000000000.5743842,\n",
       " 1000000000.5613996,\n",
       " 1000000000.5754199,\n",
       " 1000000000.550236,\n",
       " 1000000000.5419154,\n",
       " 1000000000.5361795,\n",
       " 1000000000.4844612,\n",
       " 1000000000.430598,\n",
       " 1000000000.4678612,\n",
       " 1000000000.4656386,\n",
       " 1000000000.4562964,\n",
       " 1000000000.4829785,\n",
       " 1000000000.4621134,\n",
       " 1000000000.4328414,\n",
       " 1000000000.4313332,\n",
       " 1000000000.3638786,\n",
       " 1000000000.3190081,\n",
       " 1000000000.3184116,\n",
       " 1000000000.3405062,\n",
       " 1000000000.3350806,\n",
       " 1000000000.3128136,\n",
       " 1000000000.3664016,\n",
       " 1000000000.3511542,\n",
       " 1000000000.3463632,\n",
       " 1000000000.3322825,\n",
       " 1000000000.3264039,\n",
       " 1000000000.3044224,\n",
       " 1000000000.2205719,\n",
       " 1000000000.2045434,\n",
       " 1000000000.3103348,\n",
       " 1000000000.3105078,\n",
       " 1000000000.3017807,\n",
       " 1000000000.2813437,\n",
       " 1000000000.2948833,\n",
       " 1000000000.3172816,\n",
       " 1000000000.3249707,\n",
       " 1000000000.3068035]"
      ]
     },
     "execution_count": 11,
     "metadata": {},
     "output_type": "execute_result"
    }
   ],
   "source": [
    "g = online_mean(make_data(5, 100))\n",
    "print(type(g))\n",
    "list(g)"
   ]
  },
  {
   "cell_type": "markdown",
   "metadata": {},
   "source": [
    "### 2.1\n",
    "\n",
    "Implement the standard deviation algorithm as a generator function as\n",
    "\n",
    "```python\n",
    "def online_mean_dev(iterator):\n",
    "    BLA BLA\n",
    "    if n > 1:\n",
    "        stddev = math.sqrt(dev_accum/(n-1))\n",
    "        yield (n, value, mu, stddev)\n",
    "```"
   ]
  },
  {
   "cell_type": "code",
   "execution_count": 13,
   "metadata": {
    "collapsed": false
   },
   "outputs": [],
   "source": [
    "# your code here\n",
    "import math\n",
    "def online_mean_dev(iterator):\n",
    "    n = 0\n",
    "    mu = 0   \n",
    "    # deviations accumulation\n",
    "    dev_accum = 0  \n",
    "    for value in iterator:\n",
    "        n += 1\n",
    "        delta = value - mu\n",
    "        mu = mu + delta/n\n",
    "        # get the deviations accumulation by multiplying delta associated with the current\n",
    "        # value times the difference between the current value and the moving average\n",
    "        dev_accum += delta * (value - mu)\n",
    "        if n > 1:\n",
    "            stddev = math.sqrt(dev_accum/(n-1))\n",
    "            yield (n, value, mu, stddev)"
   ]
  },
  {
   "cell_type": "markdown",
   "metadata": {},
   "source": [
    "Here we make 100000 element data, and run this iterator on it (imagine running this on a time-series being slowly read from disk"
   ]
  },
  {
   "cell_type": "code",
   "execution_count": 14,
   "metadata": {
    "collapsed": true
   },
   "outputs": [],
   "source": [
    "data_with_stats = online_mean_dev(make_data(5, 100000))"
   ]
  },
  {
   "cell_type": "markdown",
   "metadata": {},
   "source": [
    "## Q3.\n",
    "\n",
    "Let's do Anomaly detection. Write a routine `is_ok`:\n",
    "\n",
    "```python\n",
    "def is_ok(level, t)\n",
    "```\n",
    "\n",
    "which takes a tuple like the one yielded by your code above and returns True if the value is inbetween `level`-$\\sigma$ of the mean."
   ]
  },
  {
   "cell_type": "code",
   "execution_count": 15,
   "metadata": {
    "collapsed": true
   },
   "outputs": [],
   "source": [
    "#your code here\n",
    "def is_ok(level, t):\n",
    "    # set the needed values from the t parameter provided by yield in online_mean_dev\n",
    "    (n, value, mu, stddev) = t\n",
    "    # return - is the absolute value of the difference between the value and the moving average\n",
    "    # less than the product of the level and stddev?  \n",
    "    return abs(value-mu)<level*stddev"
   ]
  },
  {
   "cell_type": "markdown",
   "metadata": {},
   "source": [
    "We use this function to create a predicate passed through to `itertools.filterfalse` which is then used to obtain an iterator on the anomalies."
   ]
  },
  {
   "cell_type": "code",
   "execution_count": 16,
   "metadata": {
    "collapsed": true
   },
   "outputs": [],
   "source": [
    "from itertools import filterfalse\n",
    "pred = lambda t: is_ok(5, t)\n",
    "anomalies = filterfalse(pred, data_with_stats)"
   ]
  },
  {
   "cell_type": "markdown",
   "metadata": {},
   "source": [
    "We materialize the anomalies..."
   ]
  },
  {
   "cell_type": "code",
   "execution_count": 17,
   "metadata": {
    "collapsed": false
   },
   "outputs": [
    {
     "data": {
      "text/plain": [
       "[(3799, 999999984.3919502, 1000000000.0785948, 2.943854077921025),\n",
       " (6553, 999999983.7512288, 1000000000.0710684, 2.931570243511724),\n",
       " (11148, 1000000016.2665743, 1000000000.0267012, 2.8992344832659094),\n",
       " (16645, 999999983.3661323, 1000000000.0235857, 2.9018411376616946),\n",
       " (19370, 999999984.9717368, 1000000000.0172232, 2.898574147542543),\n",
       " (27920, 1000000015.515421, 1000000000.0172505, 2.8979924833168487),\n",
       " (28434, 1000000015.1185029, 1000000000.017297, 2.9045995642708635),\n",
       " (33727, 1000000018.6434057, 1000000000.0097382, 2.8974238145531217),\n",
       " (38512, 1000000014.6971774, 1000000000.0069771, 2.895695661136041),\n",
       " (38737, 1000000015.7360072, 1000000000.0062271, 2.8971397066855644),\n",
       " (48144, 1000000014.7119167, 1000000000.0005858, 2.896487037774915),\n",
       " (59728, 1000000014.641351, 999999999.9981457, 2.88903352447863),\n",
       " (68365, 1000000015.0555942, 999999999.9939312, 2.8855609246294733),\n",
       " (68583, 999999984.2549812, 999999999.9937634, 2.8862357636375404),\n",
       " (70891, 1000000016.4932966, 999999999.9983007, 2.884418117523146),\n",
       " (70916, 999999984.8195596, 999999999.9981846, 2.8852831625134865),\n",
       " (73045, 1000000015.0972607, 1000000000.0002375, 2.885447413823365),\n",
       " (75799, 999999985.3928007, 1000000000.0006168, 2.8880301743045926),\n",
       " (77081, 1000000015.0493497, 1000000000.0014737, 2.8882561912653126),\n",
       " (80122, 1000000016.193235, 1000000000.0012863, 2.890437026469305),\n",
       " (90676, 999999984.0180353, 1000000000.0006039, 2.8908540386985493),\n",
       " (93768, 1000000017.7076876, 1000000000.0002316, 2.890930054419799)]"
      ]
     },
     "execution_count": 17,
     "metadata": {},
     "output_type": "execute_result"
    }
   ],
   "source": [
    "list(anomalies)#materialize"
   ]
  },
  {
   "cell_type": "markdown",
   "metadata": {},
   "source": [
    "## To think of, but not hand in\n",
    "\n",
    "What kinds of anomalies will this algorithm pick up? What kinds would a shorter \"window\" of anomaly detection, like 100 points around the time in question pick? How might you create an algorithm which does window based averaging? (hint: the window size is small compared to the time series size). \n",
    "\n",
    "Finally think a bit of how you might implement all of this in a production environment..remember that data streaming in might get backed up when you handle an anomaly.\n",
    "\n",
    "(Some inspiration might accrue if you look at the docs for `collections.deque`)."
   ]
  }
 ],
 "metadata": {
  "anaconda-cloud": {},
  "kernelspec": {
   "display_name": "Python [Root]",
   "language": "python",
   "name": "Python [Root]"
  },
  "language_info": {
   "codemirror_mode": {
    "name": "ipython",
    "version": 3
   },
   "file_extension": ".py",
   "mimetype": "text/x-python",
   "name": "python",
   "nbconvert_exporter": "python",
   "pygments_lexer": "ipython3",
   "version": "3.5.2"
  }
 },
 "nbformat": 4,
 "nbformat_minor": 0
}
